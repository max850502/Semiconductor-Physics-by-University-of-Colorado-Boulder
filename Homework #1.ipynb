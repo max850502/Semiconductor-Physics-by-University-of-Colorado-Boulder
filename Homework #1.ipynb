{
 "cells": [
  {
   "cell_type": "markdown",
   "metadata": {},
   "source": [
    "1.\n",
    "Question 1\n",
    "Simple Cubic Lattice, Part 1\n",
    "Consider a simple cubic (sc) crystal in which one atom is placed at each lattice point. The lattice constant is a = 0.7nm. Calculate the volume density of atoms (i.e. number of atoms per unit volume) in unit of cm^{-3}. Values within 5% error will be considered correct."
   ]
  },
  {
   "cell_type": "code",
   "execution_count": 17,
   "metadata": {},
   "outputs": [
    {
     "data": {
      "text/plain": [
       "2.915451895043731e+21"
      ]
     },
     "execution_count": 17,
     "metadata": {},
     "output_type": "execute_result"
    }
   ],
   "source": [
    "a = 0.7e-7\n",
    "number_of_atoms = (1/8)*8\n",
    "vd = number_of_atoms/ a**3\n",
    "\n",
    "vd"
   ]
  },
  {
   "cell_type": "markdown",
   "metadata": {},
   "source": [
    "2.\n",
    "Question 2\n",
    "Simple Cubic Lattice, Part 2\n",
    "\n",
    "For the simple cubic crystal described above, i.e. a = 0.7nm, calculate the surface density of atoms (i.e. number of atoms per unit area) on the (100) plane in unit of cm^{-2} cm−2. Values within 5% error will be considered correct."
   ]
  },
  {
   "cell_type": "code",
   "execution_count": 16,
   "metadata": {},
   "outputs": [
    {
     "data": {
      "text/plain": [
       "204081632653061.2"
      ]
     },
     "execution_count": 16,
     "metadata": {},
     "output_type": "execute_result"
    }
   ],
   "source": [
    "a = 0.7e-7\n",
    "surface_area = a**2\n",
    "number_of_atoms = (1/4)*4\n",
    "sd = number_of_atoms/surface_area\n",
    "sd"
   ]
  },
  {
   "cell_type": "markdown",
   "metadata": {},
   "source": [
    "3.\n",
    "Question 3\n",
    "Simple Cubic Lattice, Part 3\n",
    "\n",
    "For the simple cubic crystal described above, i.e.  a = 0.7nm, calculate the surface density of atoms (i.e. number of atoms per unit area) on the (111) plane in units of cm^{-2}cm. Values within 5% error will be considered correct."
   ]
  },
  {
   "cell_type": "code",
   "execution_count": 43,
   "metadata": {},
   "outputs": [
    {
     "data": {
      "text/plain": [
       "117826585548903.2"
      ]
     },
     "execution_count": 43,
     "metadata": {},
     "output_type": "execute_result"
    }
   ],
   "source": [
    "import math\n",
    "\n",
    "a = 0.7e-7\n",
    "surface_area = (math.sqrt(3)/4)*(math.sqrt(2)*a)**2\n",
    "number_of_atoms = (1/6)*3\n",
    "sd = number_of_atoms/surface_area\n",
    "\n",
    "sd"
   ]
  },
  {
   "cell_type": "markdown",
   "metadata": {},
   "source": [
    "4.\n",
    "Question 1\n",
    "Face Centered Cubic Lattice, Part 1\n",
    "\n",
    "Consider a face centered cubic (fcc) crystal in which one atom is placed at each lattice point. The lattice constant is a = 0.7nm. Calculate the volume density of atoms (i.e. number of atoms per unit volume) in units of cm−3. Values within 5% error will be considered correct."
   ]
  },
  {
   "cell_type": "code",
   "execution_count": 34,
   "metadata": {},
   "outputs": [
    {
     "data": {
      "text/plain": [
       "1.1661807580174925e+22"
      ]
     },
     "execution_count": 34,
     "metadata": {},
     "output_type": "execute_result"
    }
   ],
   "source": [
    "a = 0.7e-7\n",
    "number_of_atoms = (1/8)*8 + (1/2)*6\n",
    "vd = number_of_atoms/ a**3\n",
    "\n",
    "vd"
   ]
  },
  {
   "cell_type": "markdown",
   "metadata": {},
   "source": [
    "5.\n",
    "Question 2\n",
    "Face Centered Cubic Lattice, Part 2\n",
    "\n",
    "For the face centered cubic crystal described above, i.e. a =0.7nm, calculate the surface density of atoms (i.e. number of atoms per unit area) on the (100) plane in unit of cm−2. Values within 5% error will be considered correct.\n",
    "\n"
   ]
  },
  {
   "cell_type": "code",
   "execution_count": 38,
   "metadata": {},
   "outputs": [
    {
     "data": {
      "text/plain": [
       "408163265306122.4"
      ]
     },
     "execution_count": 38,
     "metadata": {},
     "output_type": "execute_result"
    }
   ],
   "source": [
    "a = 0.7e-7\n",
    "surface_area = a**2\n",
    "number_of_atoms = (1/4)*4 + 1\n",
    "sd = number_of_atoms/surface_area\n",
    "sd"
   ]
  },
  {
   "cell_type": "markdown",
   "metadata": {},
   "source": [
    "6.\n",
    "Question 3\n",
    "Face Centered Cubic Lattice, Part 3\n",
    "\n",
    "For the face centered cubic crystal described above, i.e.  a = 0.7nm, calculate the surface density of atoms (i.e. number of atoms per unit area) on the (111) plane in units of cm−2. Values within 5% error will be considered correct."
   ]
  },
  {
   "cell_type": "code",
   "execution_count": 44,
   "metadata": {},
   "outputs": [
    {
     "data": {
      "text/plain": [
       "471306342195612.8"
      ]
     },
     "execution_count": 44,
     "metadata": {},
     "output_type": "execute_result"
    }
   ],
   "source": [
    "import math\n",
    "\n",
    "a = 0.7e-7\n",
    "surface_area = (math.sqrt(3)/4)*(math.sqrt(2)*a)**2\n",
    "number_of_atoms = (1/6)*3 + (1/2)*3\n",
    "sd = number_of_atoms/surface_area\n",
    "\n",
    "sd"
   ]
  },
  {
   "cell_type": "markdown",
   "metadata": {},
   "source": [
    "7.\n",
    "Question 7\n",
    "Diamond and Zinc Blende Structures, Part 1\n",
    "\n",
    "Si crystalizes into a diamond crystal structure with lattice constant a = 0.543nm. Calculate the atomic density in units of cm−3. Values within 5% error will be considered correct."
   ]
  },
  {
   "cell_type": "code",
   "execution_count": 50,
   "metadata": {},
   "outputs": [
    {
     "data": {
      "text/plain": [
       "4.9967831022686525e+22"
      ]
     },
     "execution_count": 50,
     "metadata": {},
     "output_type": "execute_result"
    }
   ],
   "source": [
    "a = 0.543e-7\n",
    "number_of_atoms = (1/8)*8 + (1/2)*6 + 4\n",
    "vd = number_of_atoms/ a**3\n",
    "\n",
    "vd"
   ]
  },
  {
   "cell_type": "markdown",
   "metadata": {},
   "source": [
    "8.\n",
    "Question 8\n",
    "Diamond and Zinc Blende Structures, Part 2\n",
    "\n",
    "GaAs crystalizes into a zinc blend crystal structure with lattice constant  a = 0.565nm, respectively. Calculate the atomic density of Ga in units of cm−3. Values within 5% error will be considered correct."
   ]
  },
  {
   "cell_type": "code",
   "execution_count": 51,
   "metadata": {},
   "outputs": [
    {
     "data": {
      "text/plain": [
       "2.217760519288625e+22"
      ]
     },
     "execution_count": 51,
     "metadata": {},
     "output_type": "execute_result"
    }
   ],
   "source": [
    "a = 0.565e-7\n",
    "number_of_atoms = 4\n",
    "vd = number_of_atoms/ a**3\n",
    "\n",
    "vd"
   ]
  },
  {
   "cell_type": "markdown",
   "metadata": {},
   "source": [
    "9.\n",
    "Question 9\n",
    "Lattice Spacing, Part 1\n",
    "\n",
    "Consider a simple cubic lattice with lattice constant 0.5 nm. Calculate the spacing between two adjacent (211) planes. Give your answer in unit of nm. Values within 10% error will be considered correct."
   ]
  },
  {
   "cell_type": "code",
   "execution_count": 49,
   "metadata": {},
   "outputs": [
    {
     "data": {
      "text/plain": [
       "0.20412414523193154"
      ]
     },
     "execution_count": 49,
     "metadata": {},
     "output_type": "execute_result"
    }
   ],
   "source": [
    "a = 0.5\n",
    "d = a/math.sqrt(2**2+1+1)\n",
    "d"
   ]
  },
  {
   "cell_type": "code",
   "execution_count": null,
   "metadata": {},
   "outputs": [],
   "source": []
  }
 ],
 "metadata": {
  "kernelspec": {
   "display_name": "Python 3",
   "language": "python",
   "name": "python3"
  },
  "language_info": {
   "codemirror_mode": {
    "name": "ipython",
    "version": 3
   },
   "file_extension": ".py",
   "mimetype": "text/x-python",
   "name": "python",
   "nbconvert_exporter": "python",
   "pygments_lexer": "ipython3",
   "version": "3.8.3"
  }
 },
 "nbformat": 4,
 "nbformat_minor": 4
}
